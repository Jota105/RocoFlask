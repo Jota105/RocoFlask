{
 "cells": [
  {
   "cell_type": "code",
   "execution_count": 1,
   "metadata": {},
   "outputs": [],
   "source": [
    "%load_ext autoreload\n",
    "%autoreload 2"
   ]
  },
  {
   "cell_type": "code",
   "execution_count": 2,
   "metadata": {},
   "outputs": [],
   "source": [
    "import json"
   ]
  },
  {
   "cell_type": "code",
   "execution_count": 3,
   "metadata": {},
   "outputs": [],
   "source": [
    "credentials = json.loads(open('credentials.json').read())"
   ]
  },
  {
   "cell_type": "code",
   "execution_count": 4,
   "metadata": {},
   "outputs": [],
   "source": [
    "url = credentials['text_to_speech'][0]['credentials']['url']\n",
    "username = credentials['text_to_speech'][0]['credentials']['username']\n",
    "password = credentials['text_to_speech'][0]['credentials']['password']"
   ]
  },
  {
   "cell_type": "code",
   "execution_count": 5,
   "metadata": {},
   "outputs": [],
   "source": [
    "from watson_developer_cloud import TextToSpeechV1"
   ]
  },
  {
   "cell_type": "code",
   "execution_count": 6,
   "metadata": {},
   "outputs": [],
   "source": [
    "text2speech = TextToSpeechV1(url, username, password)"
   ]
  },
  {
   "cell_type": "code",
   "execution_count": 7,
   "metadata": {},
   "outputs": [
    {
     "data": {
      "text/plain": [
       "['es-LA_SofiaVoice',\n",
       " 'pt-BR_IsabelaVoice',\n",
       " 'en-GB_KateVoice',\n",
       " 'de-DE_BirgitVoice',\n",
       " 'en-US_AllisonVoice',\n",
       " 'fr-FR_ReneeVoice',\n",
       " 'it-IT_FrancescaVoice',\n",
       " 'es-ES_LauraVoice',\n",
       " 'ja-JP_EmiVoice',\n",
       " 'es-ES_EnriqueVoice',\n",
       " 'de-DE_DieterVoice',\n",
       " 'en-US_LisaVoice',\n",
       " 'en-US_MichaelVoice',\n",
       " 'es-US_SofiaVoice']"
      ]
     },
     "execution_count": 7,
     "metadata": {},
     "output_type": "execute_result"
    }
   ],
   "source": [
    "[voice['name'] for voice in text2speech.list_voices()['voices']]"
   ]
  },
  {
   "cell_type": "code",
   "execution_count": 12,
   "metadata": {},
   "outputs": [],
   "source": [
    "with open('data/output.mp3', 'wb') as audio_file:\n",
    "    audio = text2speech.synthesize('Hola mudndo', accept='audio/mp3',\n",
    "                                   voice='es-ES_EnriqueVoice')\n",
    "    audio_file.write(audio.content)"
   ]
  },
  {
   "cell_type": "markdown",
   "metadata": {},
   "source": [
    "## Testing Python API"
   ]
  },
  {
   "cell_type": "code",
   "execution_count": 13,
   "metadata": {},
   "outputs": [],
   "source": [
    "from watsonAPI import Watson_API"
   ]
  },
  {
   "cell_type": "code",
   "execution_count": 14,
   "metadata": {},
   "outputs": [],
   "source": [
    "watson = Watson_API('credentials.json')"
   ]
  },
  {
   "cell_type": "code",
   "execution_count": 16,
   "metadata": {},
   "outputs": [],
   "source": [
    "watson.text_to_speech('¿alguno estará en la tarde para también entregar tivas?',\n",
    "                      'data/tivas.mp3')"
   ]
  },
  {
   "cell_type": "markdown",
   "metadata": {},
   "source": [
    "## Speech to Text"
   ]
  },
  {
   "cell_type": "code",
   "execution_count": 17,
   "metadata": {},
   "outputs": [],
   "source": [
    "from watson_developer_cloud import SpeechToTextV1"
   ]
  },
  {
   "cell_type": "code",
   "execution_count": 19,
   "metadata": {},
   "outputs": [],
   "source": [
    "speech2text = watson.init_service(SpeechToTextV1, 'speech_to_text')"
   ]
  },
  {
   "cell_type": "code",
   "execution_count": 20,
   "metadata": {},
   "outputs": [
    {
     "data": {
      "text/plain": [
       "['pt-BR_NarrowbandModel',\n",
       " 'ko-KR_BroadbandModel',\n",
       " 'fr-FR_BroadbandModel',\n",
       " 'en-US_NarrowbandModel',\n",
       " 'en-GB_BroadbandModel',\n",
       " 'ko-KR_NarrowbandModel',\n",
       " 'ja-JP_BroadbandModel',\n",
       " 'en-GB_NarrowbandModel',\n",
       " 'es-ES_BroadbandModel',\n",
       " 'ar-AR_BroadbandModel',\n",
       " 'zh-CN_NarrowbandModel',\n",
       " 'ja-JP_NarrowbandModel',\n",
       " 'es-ES_NarrowbandModel',\n",
       " 'zh-CN_BroadbandModel',\n",
       " 'pt-BR_BroadbandModel',\n",
       " 'en-US_BroadbandModel']"
      ]
     },
     "execution_count": 20,
     "metadata": {},
     "output_type": "execute_result"
    }
   ],
   "source": [
    "[model['name'] for model in speech2text.list_models()['models']]"
   ]
  },
  {
   "cell_type": "code",
   "execution_count": 21,
   "metadata": {},
   "outputs": [],
   "source": [
    "with open('data/tivas.mp3', 'rb') as audio_file:\n",
    "    text = speech2text.recognize(audio=audio_file, \n",
    "                             model='es-ES_BroadbandModel', \n",
    "                             content_type='audio/mp3')"
   ]
  },
  {
   "cell_type": "code",
   "execution_count": 22,
   "metadata": {},
   "outputs": [
    {
     "data": {
      "text/plain": [
       "{'result_index': 0,\n",
       " 'results': [{'alternatives': [{'confidence': 0.949,\n",
       "     'transcript': 'alguno estará en la tarde para también entregar tibas '}],\n",
       "   'final': True}]}"
      ]
     },
     "execution_count": 22,
     "metadata": {},
     "output_type": "execute_result"
    }
   ],
   "source": [
    "text"
   ]
  },
  {
   "cell_type": "code",
   "execution_count": 23,
   "metadata": {},
   "outputs": [
    {
     "data": {
      "text/plain": [
       "'alguno estará en la tarde para también entregar tibas '"
      ]
     },
     "execution_count": 23,
     "metadata": {},
     "output_type": "execute_result"
    }
   ],
   "source": [
    "text['results'][0]['alternatives'][0]['transcript']"
   ]
  },
  {
   "cell_type": "markdown",
   "metadata": {},
   "source": [
    "## Test Python API"
   ]
  },
  {
   "cell_type": "code",
   "execution_count": 24,
   "metadata": {},
   "outputs": [],
   "source": [
    "from watsonAPI import Watson_API"
   ]
  },
  {
   "cell_type": "code",
   "execution_count": 25,
   "metadata": {},
   "outputs": [],
   "source": [
    "watson = Watson_API('credentials.json')"
   ]
  },
  {
   "cell_type": "code",
   "execution_count": 27,
   "metadata": {},
   "outputs": [
    {
     "data": {
      "text/plain": [
       "'alguno estará en la tarde para también entregar tibas '"
      ]
     },
     "execution_count": 27,
     "metadata": {},
     "output_type": "execute_result"
    }
   ],
   "source": [
    "watson.speech_to_text('data/tivas.mp3')"
   ]
  },
  {
   "cell_type": "code",
   "execution_count": 28,
   "metadata": {},
   "outputs": [
    {
     "data": {
      "text/plain": [
       "'hola mundo '"
      ]
     },
     "execution_count": 28,
     "metadata": {},
     "output_type": "execute_result"
    }
   ],
   "source": [
    "from watsonAPI import Watson_API\n",
    "watson = Watson_API('credentials.json')\n",
    "watson.text_to_speech('hola mundo', 'data/audio.mp3')\n",
    "watson.speech_to_text('data/audio.mp3')"
   ]
  },
  {
   "cell_type": "markdown",
   "metadata": {},
   "source": [
    "## Watson Conversation"
   ]
  },
  {
   "cell_type": "code",
   "execution_count": 29,
   "metadata": {},
   "outputs": [],
   "source": [
    "from watson_developer_cloud import AssistantV1"
   ]
  },
  {
   "cell_type": "code",
   "execution_count": 30,
   "metadata": {},
   "outputs": [],
   "source": [
    "credentials = json.loads(open(\"credentials.json\").read())"
   ]
  },
  {
   "cell_type": "code",
   "execution_count": 31,
   "metadata": {},
   "outputs": [],
   "source": [
    "url = credentials['conversation'][0]['credentials']['url']\n",
    "username = credentials['conversation'][0]['credentials']['username']\n",
    "password = credentials['conversation'][0]['credentials']['password']\n",
    "#version = credentials['conversation'][0]['credentials']['version']"
   ]
  },
  {
   "cell_type": "code",
   "execution_count": 32,
   "metadata": {},
   "outputs": [
    {
     "ename": "NameError",
     "evalue": "name 'version' is not defined",
     "output_type": "error",
     "traceback": [
      "\u001b[0;31m---------------------------------------------------------------------------\u001b[0m",
      "\u001b[0;31mNameError\u001b[0m                                 Traceback (most recent call last)",
      "\u001b[0;32m<ipython-input-32-102459388774>\u001b[0m in \u001b[0;36m<module>\u001b[0;34m()\u001b[0m\n\u001b[0;32m----> 1\u001b[0;31m \u001b[0massistant\u001b[0m \u001b[0;34m=\u001b[0m \u001b[0mAssistantV1\u001b[0m\u001b[0;34m(\u001b[0m\u001b[0mversion\u001b[0m\u001b[0;34m,\u001b[0m \u001b[0murl\u001b[0m\u001b[0;34m,\u001b[0m \u001b[0musername\u001b[0m\u001b[0;34m,\u001b[0m \u001b[0mpassword\u001b[0m\u001b[0;34m)\u001b[0m\u001b[0;34m\u001b[0m\u001b[0m\n\u001b[0m",
      "\u001b[0;31mNameError\u001b[0m: name 'version' is not defined"
     ]
    }
   ],
   "source": [
    "assistant = AssistantV1(version, url, username, password)"
   ]
  },
  {
   "cell_type": "code",
   "execution_count": 23,
   "metadata": {},
   "outputs": [],
   "source": [
    "import re\n",
    "pattern = re.compile('version=(\\d+-\\d+-\\d+)')"
   ]
  },
  {
   "cell_type": "code",
   "execution_count": 25,
   "metadata": {},
   "outputs": [],
   "source": [
    "version = pattern.findall('/v1/workspaces?version=2018-02-16')[0]"
   ]
  },
  {
   "cell_type": "code",
   "execution_count": 45,
   "metadata": {},
   "outputs": [],
   "source": [
    "workspace_id = assistant.list_workspaces()['workspaces'][0]['workspace_id']"
   ]
  },
  {
   "cell_type": "code",
   "execution_count": 29,
   "metadata": {},
   "outputs": [
    {
     "data": {
      "text/plain": [
       "'3386da8a-3170-402a-9d0e-9ef9cda53567'"
      ]
     },
     "execution_count": 29,
     "metadata": {},
     "output_type": "execute_result"
    }
   ],
   "source": [
    "workspace_id"
   ]
  },
  {
   "cell_type": "code",
   "execution_count": 19,
   "metadata": {},
   "outputs": [
    {
     "data": {
      "text/plain": [
       "'/v1/workspaces?version=2018-02-16'"
      ]
     },
     "execution_count": 19,
     "metadata": {},
     "output_type": "execute_result"
    }
   ],
   "source": [
    "assistant.list_workspaces()['pagination']['refresh_url']"
   ]
  },
  {
   "cell_type": "code",
   "execution_count": 26,
   "metadata": {},
   "outputs": [
    {
     "data": {
      "text/plain": [
       "[{'name': 'Car Dashboard - Sample',\n",
       "  'language': 'en',\n",
       "  'metadata': {'from-sample': True},\n",
       "  'description': 'Cognitive Car Dashboard sample workspace which allows multi-turn conversations to perform tasks in the car.',\n",
       "  'workspace_id': '3386da8a-3170-402a-9d0e-9ef9cda53567',\n",
       "  'learning_opt_out': False}]"
      ]
     },
     "execution_count": 26,
     "metadata": {},
     "output_type": "execute_result"
    }
   ],
   "source": [
    "assistant.list_workspaces()['workspaces']"
   ]
  },
  {
   "cell_type": "code",
   "execution_count": 32,
   "metadata": {},
   "outputs": [
    {
     "data": {
      "text/plain": [
       "{'intents': [],\n",
       " 'entities': [],\n",
       " 'input': {'text': 'holi'},\n",
       " 'output': {'text': ['Hi. It looks like a nice drive today. What would you like me to do?  '],\n",
       "  'nodes_visited': ['Start And Initialize Context'],\n",
       "  'log_messages': []},\n",
       " 'context': {'conversation_id': 'e4d43b97-85ef-4103-be56-715a694ab00e',\n",
       "  'system': {'dialog_stack': [{'dialog_node': 'root'}],\n",
       "   'dialog_turn_counter': 1,\n",
       "   'dialog_request_counter': 1,\n",
       "   '_node_output_map': {'Start And Initialize Context': [0, 0]},\n",
       "   'branch_exited': True,\n",
       "   'branch_exited_reason': 'completed'},\n",
       "  'AConoff': 'off',\n",
       "  'lightonoff': 'off',\n",
       "  'musiconoff': 'off',\n",
       "  'appl_action': '',\n",
       "  'heateronoff': 'off',\n",
       "  'volumeonoff': 'off',\n",
       "  'wipersonoff': 'off',\n",
       "  'default_counter': 0}}"
      ]
     },
     "execution_count": 32,
     "metadata": {},
     "output_type": "execute_result"
    }
   ],
   "source": [
    "response = assistant.message(workspace_id=workspace_id, input={'text': 'holi'})\n",
    "response"
   ]
  },
  {
   "cell_type": "code",
   "execution_count": 35,
   "metadata": {},
   "outputs": [
    {
     "data": {
      "text/plain": [
       "'Hi. It looks like a nice drive today. What would you like me to do?  '"
      ]
     },
     "execution_count": 35,
     "metadata": {},
     "output_type": "execute_result"
    }
   ],
   "source": [
    "response['output']['text'][0]"
   ]
  },
  {
   "cell_type": "code",
   "execution_count": 40,
   "metadata": {},
   "outputs": [
    {
     "data": {
      "text/plain": [
       "['Car Dashboard - Sample']"
      ]
     },
     "execution_count": 40,
     "metadata": {},
     "output_type": "execute_result"
    }
   ],
   "source": [
    "[workspace['name'] for workspace in assistant.list_workspaces()['workspaces']]"
   ]
  },
  {
   "cell_type": "markdown",
   "metadata": {},
   "source": [
    "## Test Python API (conversation)"
   ]
  },
  {
   "cell_type": "code",
   "execution_count": 5,
   "metadata": {},
   "outputs": [],
   "source": [
    "url = credentials['conversation'][0]['credentials']['url']\n",
    "username = credentials['conversation'][0]['credentials']['username']\n",
    "password = credentials['conversation'][0]['credentials']['password']\n",
    "version = \"2018-02-16\""
   ]
  },
  {
   "cell_type": "code",
   "execution_count": 6,
   "metadata": {},
   "outputs": [],
   "source": [
    "from watson_developer_cloud import AssistantV1"
   ]
  },
  {
   "cell_type": "code",
   "execution_count": 9,
   "metadata": {},
   "outputs": [
    {
     "data": {
      "text/plain": [
       "('https://gateway.watsonplatform.net/assistant/api',\n",
       " 'd5daa33a-e494-4c08-900c-82e3e813f0bb',\n",
       " '0EeI7xofCCc1',\n",
       " '2018-02-16')"
      ]
     },
     "execution_count": 9,
     "metadata": {},
     "output_type": "execute_result"
    }
   ],
   "source": [
    "url, username, password, version"
   ]
  },
  {
   "cell_type": "code",
   "execution_count": 10,
   "metadata": {},
   "outputs": [],
   "source": [
    "assistant = AssistantV1(version, url, username, password)"
   ]
  },
  {
   "cell_type": "code",
   "execution_count": 21,
   "metadata": {},
   "outputs": [],
   "source": [
    "from watsonAPI import Watson_API\n",
    "watson = Watson_API('credentials.json')"
   ]
  },
  {
   "cell_type": "code",
   "execution_count": 22,
   "metadata": {},
   "outputs": [
    {
     "data": {
      "text/plain": [
       "'Hi. It looks like a nice drive today. What would you like me to do?  '"
      ]
     },
     "execution_count": 22,
     "metadata": {},
     "output_type": "execute_result"
    }
   ],
   "source": [
    "watson.send_message('holi')"
   ]
  },
  {
   "cell_type": "code",
   "execution_count": 24,
   "metadata": {},
   "outputs": [
    {
     "data": {
      "text/plain": [
       "'Hi. It looks like a nice drive today. What would you like me to do?  '"
      ]
     },
     "execution_count": 24,
     "metadata": {},
     "output_type": "execute_result"
    }
   ],
   "source": [
    "watson.send_message('good bye')"
   ]
  }
 ],
 "metadata": {
  "kernelspec": {
   "display_name": "Python 3",
   "language": "python",
   "name": "python3"
  },
  "language_info": {
   "codemirror_mode": {
    "name": "ipython",
    "version": 3
   },
   "file_extension": ".py",
   "mimetype": "text/x-python",
   "name": "python",
   "nbconvert_exporter": "python",
   "pygments_lexer": "ipython3",
   "version": "3.5.2"
  }
 },
 "nbformat": 4,
 "nbformat_minor": 2
}
